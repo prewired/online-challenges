{
 "cells": [
  {
   "cell_type": "markdown",
   "metadata": {},
   "source": [
    "# Shared Birthday Challenge: Example Code\n",
    "\n",
    "This is an example of addressing the Shared Birthday Challenge using Python to simulate the problem. It is written in a [JupyterLab Notebook](https://jupyterlab.readthedocs.io/en/stable/).\n",
    "\n",
    "We start off by declaring some imports:"
   ]
  },
  {
   "cell_type": "code",
   "execution_count": 1,
   "metadata": {},
   "outputs": [],
   "source": [
    "# initial imports\n",
    "from collections import Counter\n",
    "from random import randint\n",
    "\n",
    "import matplotlib.pyplot as plt\n",
    "\n",
    "plt.style.use(\"ggplot\")\n",
    "%matplotlib inline\n",
    "\n",
    "import numpy as np"
   ]
  },
  {
   "cell_type": "markdown",
   "metadata": {},
   "source": [
    "## Core Functions\n",
    "\n",
    "We start by defining a   function `find_a_match()` which uses `randint()` to randomly pick a 'day' numbered between 1 and 365. Once selected, the day is placed in the list `so_far`. The function keeps on doing this until the day it has just picked matches an item that is already in `so_far`. The function returns an integer `count` which is the number of days it had to select before getting a match."
   ]
  },
  {
   "cell_type": "code",
   "execution_count": 2,
   "metadata": {},
   "outputs": [],
   "source": [
    "def find_a_match(verbose=False):\n",
    "    \"\"\"\n",
    "    Counts the number of times needed to randomly select a value from [1,365] until we matched a previous selection.\n",
    "    \n",
    "    Returns:\n",
    "        An int representing how many random selections were required before getting a match.\n",
    "    \"\"\"\n",
    "    repeat = True\n",
    "    so_far = []\n",
    "    while repeat:\n",
    "        day = randint(1, 365)  # pick a random day of the year\n",
    "        if day in so_far:  # if True, we have a match\n",
    "            count = (\n",
    "                len(so_far) + 1\n",
    "            )  # we add 1 to the count because it doesn't yet contain the new day\n",
    "            if verbose:\n",
    "                print(\"Days: {} + {}\\nCount of picks: {}\".format(so_far, day, count))\n",
    "            repeat = False\n",
    "        else:\n",
    "            so_far.append(day)\n",
    "    return count"
   ]
  },
  {
   "cell_type": "markdown",
   "metadata": {},
   "source": [
    "By the law of large numbers, we need to run `find_a_match()` a fair number of times to get a reasonable simulation. This is what `run_experiment()` does. It allows you to specify how many times to run the simulation and returns a list `counts` consisting of the output of each execution of `find_a_match()`."
   ]
  },
  {
   "cell_type": "code",
   "execution_count": 3,
   "metadata": {},
   "outputs": [],
   "source": [
    "def run_experiment(n=1000):\n",
    "    \"\"\"\n",
    "    Run the find_a_match() = function n times and add the result to the list counts.\n",
    "    \n",
    "    Argument:\n",
    "        n: An int which determines the number of times to run the experiment.\n",
    "    \n",
    "    Returns:\n",
    "        A list of int where each item is a count returned by find_a_match().\n",
    "    \"\"\"\n",
    "    counts = []\n",
    "    for i in range(n):\n",
    "        count = find_a_match()\n",
    "        counts.append(count)\n",
    "    return counts"
   ]
  },
  {
   "cell_type": "markdown",
   "metadata": {},
   "source": [
    "Here's an example of the output from executing `run_experiment()` 100 times."
   ]
  },
  {
   "cell_type": "code",
   "execution_count": 4,
   "metadata": {},
   "outputs": [
    {
     "name": "stdout",
     "output_type": "stream",
     "text": [
      "[49, 27, 11, 32, 37, 17, 7, 18, 29, 42, 47, 45, 10, 25, 23, 22, 26, 30, 17, 36, 38, 14, 48, 5, 19, 14, 43, 21, 17, 16, 41, 23, 45, 34, 17, 21, 26, 14, 49, 19, 13, 33, 7, 23, 14, 24, 38, 17, 27, 18, 11, 23, 48, 26, 30, 28, 42, 10, 20, 17, 21, 49, 13, 37, 39, 9, 44, 50, 16, 5, 39, 15, 32, 30, 12, 12, 19, 7, 46, 21, 14, 17, 10, 8, 14, 45, 57, 33, 14, 26, 16, 25, 13, 27, 32, 30, 18, 22, 37, 5]\n"
     ]
    }
   ],
   "source": [
    "print(run_experiment(100))"
   ]
  },
  {
   "cell_type": "markdown",
   "metadata": {},
   "source": [
    "Let's do it a million times and store the result in the variable `counts`. We use `%%time` to monitor how long this takes. This is sometimes worth knowing since obviously the execution time will rise as we increase the number of times we run the experiment."
   ]
  },
  {
   "cell_type": "code",
   "execution_count": 5,
   "metadata": {},
   "outputs": [
    {
     "name": "stdout",
     "output_type": "stream",
     "text": [
      "CPU times: user 41 s, sys: 336 ms, total: 41.3 s\n",
      "Wall time: 42.1 s\n"
     ]
    }
   ],
   "source": [
    "%%time\n",
    "\n",
    "counts = run_experiment(1000000)"
   ]
  },
  {
   "cell_type": "markdown",
   "metadata": {},
   "source": [
    "## Plotting the results\n",
    "\n",
    "Now let's put those counts into a histogram with 100 bins. The histogram is plotted with the `hist()` method from [Matplotlib](https://matplotlib.org)."
   ]
  },
  {
   "cell_type": "code",
   "execution_count": 6,
   "metadata": {},
   "outputs": [
    {
     "data": {
      "image/png": "[encoded data removed]",
      "text/plain": [
       "<Figure size 1080x360 with 1 Axes>"
      ]
     },
     "metadata": {
      "needs_background": "light"
     },
     "output_type": "display_data"
    }
   ],
   "source": [
    "fig = plt.figure(figsize=(15, 5))\n",
    "plt.xlabel(\"$n$\")\n",
    "plt.ylabel(\"Number of occurences\")\n",
    "counts_histogram = plt.hist(counts, bins=np.arange(0, 100))\n",
    "plt.show()"
   ]
  },
  {
   "cell_type": "markdown",
   "metadata": {},
   "source": [
    "**Question**: What happens if you change the number of times that you run your experiment to, say 1000 or 100?"
   ]
  },
  {
   "cell_type": "markdown",
   "metadata": {},
   "source": [
    "The histogram `counts_histogram` just shows the number of times that each `count` of people required before we got a matching birthday. For example, we can check how many times we needed 15 people before we got a match."
   ]
  },
  {
   "cell_type": "code",
   "execution_count": 7,
   "metadata": {},
   "outputs": [
    {
     "data": {
      "text/plain": [
       "29648.0"
      ]
     },
     "execution_count": 7,
     "metadata": {},
     "output_type": "execute_result"
    }
   ],
   "source": [
    "counts_histogram[0][15]"
   ]
  },
  {
   "cell_type": "markdown",
   "metadata": {},
   "source": [
    "In order to turn these counts into probabilities, we need to divide them by the total number of times we ran our experiment, that is, by one million. The `matplotlib` histogram can do this for us if we add the keyword `density` in the argument list of `hist()`, as shown below."
   ]
  },
  {
   "cell_type": "code",
   "execution_count": 8,
   "metadata": {},
   "outputs": [
    {
     "data": {
      "image/png": "[encoded data removed]",
      "text/plain": [
       "<Figure size 1080x360 with 1 Axes>"
      ]
     },
     "metadata": {
      "needs_background": "light"
     },
     "output_type": "display_data"
    }
   ],
   "source": [
    "fig = plt.figure(figsize=(15, 5))\n",
    "plt.xlabel(\"$n$\")\n",
    "plt.ylabel(\"Probability of $n$\")\n",
    "approx_dist = plt.hist(counts, bins=np.arange(0, 100), density=True)\n",
    "plt.show()"
   ]
  },
  {
   "cell_type": "markdown",
   "metadata": {},
   "source": [
    "We can now add up these probabilities to figure out how many people we need to see to get say a 50% chance of finding matched birthdays. The numpy `cumsum()` function  gives us an easy way to get this sum."
   ]
  },
  {
   "cell_type": "code",
   "execution_count": 9,
   "metadata": {},
   "outputs": [
    {
     "name": "stdout",
     "output_type": "stream",
     "text": [
      "50% of time, no more than 23 people were needed for a repeat.\n"
     ]
    }
   ],
   "source": [
    "print(\n",
    "    \"50% of time, no more than {} people were needed for a repeat.\".format(\n",
    "        np.where(np.cumsum(approx_dist[0]) > 0.5)[0][0]\n",
    "    )\n",
    ")"
   ]
  },
  {
   "cell_type": "markdown",
   "metadata": {},
   "source": [
    "## Credits\n",
    "\n",
    "Many thanks to Chris Ferrie's article [The power of simulation: birthday paradox](https://csferrie.com/2017/03/23/the-power-of-simulation-birthday-paradox/) for the conceptual framework and for the plotting code."
   ]
  }
 ],
 "metadata": {
  "kernelspec": {
   "display_name": "Python 3",
   "language": "python",
   "name": "python3"
  },
  "language_info": {
   "codemirror_mode": {
    "name": "ipython",
    "version": 3
   },
   "file_extension": ".py",
   "mimetype": "text/x-python",
   "name": "python",
   "nbconvert_exporter": "python",
   "pygments_lexer": "ipython3",
   "version": "3.7.7"
  }
 },
 "nbformat": 4,
 "nbformat_minor": 4
}
