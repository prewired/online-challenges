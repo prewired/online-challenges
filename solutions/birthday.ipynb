{
 "cells": [
  {
   "cell_type": "code",
   "execution_count": 1,
   "metadata": {},
   "outputs": [],
   "source": [
    "# initial imports\n",
    "from random import randrange\n",
    "from collections import Counter\n",
    "import matplotlib.pyplot as plt\n",
    "import numpy as np\n",
    "plt.style.use('ggplot')\n",
    "%matplotlib inline"
   ]
  },
  {
   "cell_type": "markdown",
   "metadata": {},
   "source": [
    "The  function `find_a_match()` uses `randrange()` to randomly pick a 'day' numbered between 1 and 365 and places it in the list `so_far`. It keeps on doing this until the day it has just picked matches an item that is already in `so_far`. The function returns an integer `count` which is the number of days it had to pick before getting a match."
   ]
  },
  {
   "cell_type": "code",
   "execution_count": 2,
   "metadata": {},
   "outputs": [],
   "source": [
    "def find_a_match(verbose=False):\n",
    "    \"\"\"\n",
    "    Return a count of the number of times needed to randomly select a value\n",
    "    from [1,365] until we get a matched value.\n",
    "    \"\"\"\n",
    "    repeat = True\n",
    "    so_far = []\n",
    "    while repeat:\n",
    "        day = randrange(1, 366) # pick a random day\n",
    "        if day in so_far: # if True, we have a match    \n",
    "            count = len(so_far) + 1    #we add 1 to the count because it doesn't yet contain the new day\n",
    "            if verbose:\n",
    "                print(\"Days: {} + {}\\nCount of picks: {}\".format(so_far, day, count))\n",
    "            repeat = False        \n",
    "        else:\n",
    "            so_far.append(day)            \n",
    "    return count"
   ]
  },
  {
   "cell_type": "markdown",
   "metadata": {},
   "source": [
    "By the law of large numbers, we need to run `find_a_match()` a fair number of times to get a reasonable simulation. This is what `run_experiment()` does. It returns a list `counts` consisting of the output of each execution of `find_a_match()`."
   ]
  },
  {
   "cell_type": "code",
   "execution_count": 3,
   "metadata": {},
   "outputs": [],
   "source": [
    "def run_experiment(n=1000):\n",
    "    \"\"\"\n",
    "    Run the :meth:`find_a_match()` function `n` times and add the result to the list `counts`.\n",
    "    \"\"\"\n",
    "    counts = []\n",
    "    for i in range(n):\n",
    "        count = find_a_match()\n",
    "        counts.append(count)\n",
    "    return counts"
   ]
  },
  {
   "cell_type": "markdown",
   "metadata": {},
   "source": [
    "Here's an example of the output from executing `run_experiment()` 100 times."
   ]
  },
  {
   "cell_type": "code",
   "execution_count": 4,
   "metadata": {},
   "outputs": [
    {
     "name": "stdout",
     "output_type": "stream",
     "text": [
      "[27, 24, 38, 10, 43, 4, 51, 16, 9, 19, 25, 6, 25, 11, 23, 40, 24, 10, 9, 21, 15, 23, 21, 24, 19, 23, 29, 18, 10, 13, 27, 35, 21, 29, 18, 35, 40, 18, 16, 38, 38, 32, 4, 28, 9, 11, 38, 22, 27, 19, 16, 14, 28, 19, 24, 15, 25, 49, 30, 19, 31, 10, 11, 40, 23, 17, 56, 20, 12, 17, 27, 30, 18, 41, 8, 41, 8, 9, 15, 34, 34, 43, 13, 50, 28, 21, 16, 18, 24, 28, 8, 36, 25, 11, 20, 9, 34, 15, 12, 20]\n"
     ]
    }
   ],
   "source": [
    "print(run_experiment(100))"
   ]
  },
  {
   "cell_type": "markdown",
   "metadata": {},
   "source": [
    "Let's do it a million times and store the result in the variable `counts`. We use `%%time` to monitor how long this takes."
   ]
  },
  {
   "cell_type": "code",
   "execution_count": 5,
   "metadata": {},
   "outputs": [
    {
     "name": "stdout",
     "output_type": "stream",
     "text": [
      "CPU times: user 29.4 s, sys: 166 ms, total: 29.5 s\n",
      "Wall time: 29.7 s\n"
     ]
    }
   ],
   "source": [
    "%%time\n",
    "\n",
    "counts = run_experiment(1000000)"
   ]
  },
  {
   "cell_type": "markdown",
   "metadata": {},
   "source": [
    "Now let's put those counts into a histogram with 100 bins."
   ]
  },
  {
   "cell_type": "code",
   "execution_count": 6,
   "metadata": {},
   "outputs": [
    {
     "data": {
      "image/png": "[encoded data removed]",
      "text/plain": [
       "<Figure size 1080x360 with 1 Axes>"
      ]
     },
     "metadata": {
      "needs_background": "light"
     },
     "output_type": "display_data"
    }
   ],
   "source": [
    "fig=plt.figure(figsize=(15, 5))\n",
    "plt.xlabel(\"$n$\")\n",
    "plt.ylabel(\"Number of occurences\")\n",
    "counts_histogram = plt.hist(counts, bins = np.arange(0,100))\n",
    "plt.show()"
   ]
  },
  {
   "cell_type": "markdown",
   "metadata": {},
   "source": [
    "The histogram `counts_histogram` just shows the number of times that each `count` of people required before we got a matching birthday. For example, we can check how many times we needed 15 people before we got a match."
   ]
  },
  {
   "cell_type": "code",
   "execution_count": 7,
   "metadata": {},
   "outputs": [
    {
     "data": {
      "text/plain": [
       "29765.0"
      ]
     },
     "execution_count": 7,
     "metadata": {},
     "output_type": "execute_result"
    }
   ],
   "source": [
    "counts_histogram[0][15]"
   ]
  },
  {
   "cell_type": "markdown",
   "metadata": {},
   "source": [
    "In order to turn these counts into probabilities, we need to divide them by the total number of times we ran our experiment, that is, by one million. The `matplotlib` histogram can do this for us if we add the keyword `density` as show below."
   ]
  },
  {
   "cell_type": "code",
   "execution_count": 8,
   "metadata": {},
   "outputs": [
    {
     "data": {
      "image/png": "[encoded data removed]",
      "text/plain": [
       "<Figure size 1080x360 with 1 Axes>"
      ]
     },
     "metadata": {
      "needs_background": "light"
     },
     "output_type": "display_data"
    }
   ],
   "source": [
    "fig=plt.figure(figsize=(15, 5))\n",
    "plt.xlabel(\"$n$\")\n",
    "plt.ylabel(\"Probability of $n$\")\n",
    "approx_dist = plt.hist(counts, bins = np.arange(0,100), density = True)\n",
    "plt.show()"
   ]
  },
  {
   "cell_type": "markdown",
   "metadata": {},
   "source": [
    "We can now add up these probabilities to figure out how many people we need to see to get say a 50% chance of finding matched birthdays. The numpy `cumsum()` function  gives us an easy way to get this sum."
   ]
  },
  {
   "cell_type": "code",
   "execution_count": 9,
   "metadata": {},
   "outputs": [
    {
     "name": "stdout",
     "output_type": "stream",
     "text": [
      "50% of time, no more than 23 people were needed for a repeat.\n"
     ]
    }
   ],
   "source": [
    "print(\"50% of time, no more than {} people were needed for a repeat.\".format(\n",
    "            np.where(np.cumsum(approx_dist[0])>0.5)[0][0]\n",
    "            )\n",
    "      )"
   ]
  }
 ],
 "metadata": {
  "kernelspec": {
   "display_name": "Python 3",
   "language": "python",
   "name": "python3"
  },
  "language_info": {
   "codemirror_mode": {
    "name": "ipython",
    "version": 3
   },
   "file_extension": ".py",
   "mimetype": "text/x-python",
   "name": "python",
   "nbconvert_exporter": "python",
   "pygments_lexer": "ipython3",
   "version": "3.7.6"
  }
 },
 "nbformat": 4,
 "nbformat_minor": 4
}
